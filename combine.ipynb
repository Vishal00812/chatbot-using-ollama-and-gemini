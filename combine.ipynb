{
 "cells": [
  {
   "cell_type": "code",
   "execution_count": 1,
   "metadata": {},
   "outputs": [],
   "source": [
    "import PyPDF2\n",
    "import os "
   ]
  },
  {
   "cell_type": "code",
   "execution_count": 2,
   "metadata": {},
   "outputs": [],
   "source": [
    "def combine_pdfs_from_folder(folder_path, output_path):\n",
    "    # Create a PDF writer object\n",
    "    pdf_writer = PyPDF2.PdfWriter()\n",
    "\n",
    "    # List all files in the folder\n",
    "    files = [f for f in os.listdir(folder_path) if f.endswith('.pdf')]\n",
    "\n",
    "    # Sort files to maintain a consistent order\n",
    "    files.sort()\n",
    "\n",
    "    # Iterate through the PDF files in the folder\n",
    "    for file in files:\n",
    "        # Create a PDF reader object for each PDF file\n",
    "        pdf_path = os.path.join(folder_path, file)\n",
    "        pdf_reader = PyPDF2.PdfReader(pdf_path)\n",
    "\n",
    "        # Add each page of the PDF to the writer object\n",
    "        for page_num in range(len(pdf_reader.pages)):\n",
    "            page = pdf_reader.pages[page_num]\n",
    "            pdf_writer.add_page(page)\n",
    "\n",
    "    # Write out the combined PDF to the specified output file\n",
    "    with open(output_path, 'wb') as out_pdf:\n",
    "        pdf_writer.write(out_pdf)"
   ]
  },
  {
   "cell_type": "code",
   "execution_count": 28,
   "metadata": {},
   "outputs": [],
   "source": [
    "pdf_folder = '/chatbot/levt1dd'"
   ]
  },
  {
   "cell_type": "code",
   "execution_count": 29,
   "metadata": {},
   "outputs": [],
   "source": [
    "output_pdf = 'combined_7.pdf'"
   ]
  },
  {
   "cell_type": "code",
   "execution_count": 30,
   "metadata": {},
   "outputs": [],
   "source": [
    "combine_pdfs_from_folder(pdf_folder, output_pdf)"
   ]
  },
  {
   "cell_type": "code",
   "execution_count": null,
   "metadata": {},
   "outputs": [],
   "source": []
  }
 ],
 "metadata": {
  "kernelspec": {
   "display_name": "Python 3",
   "language": "python",
   "name": "python3"
  },
  "language_info": {
   "codemirror_mode": {
    "name": "ipython",
    "version": 3
   },
   "file_extension": ".py",
   "mimetype": "text/x-python",
   "name": "python",
   "nbconvert_exporter": "python",
   "pygments_lexer": "ipython3",
   "version": "3.10.0"
  }
 },
 "nbformat": 4,
 "nbformat_minor": 2
}
